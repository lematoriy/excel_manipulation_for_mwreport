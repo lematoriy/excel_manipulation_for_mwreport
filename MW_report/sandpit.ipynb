{
 "cells": [
  {
   "cell_type": "markdown",
   "metadata": {},
   "source": [
    "---\n",
    "U2000 into dict\n",
    "---"
   ]
  },
  {
   "cell_type": "code",
   "execution_count": null,
   "metadata": {},
   "outputs": [],
   "source": [
    "from pprint import pprint\n",
    "\n",
    "xl_file=\"C:/Work/01_Projects/0_architecture/MW_RFP/MW_report/subset/Microwave_Link_Report_08-24-2022_10-49-29_subset.xlsx\""
   ]
  },
  {
   "cell_type": "code",
   "execution_count": null,
   "metadata": {},
   "outputs": [],
   "source": [
    "import pandas as pd\n",
    "\n",
    "df=pd.read_excel(xl_file)\n",
    "\n",
    "dict=df.to_dict(orient='records')\n",
    "\n",
    "pprint(dict)"
   ]
  },
  {
   "cell_type": "markdown",
   "metadata": {},
   "source": [
    "---\n",
    "RSM combine\n",
    "---"
   ]
  },
  {
   "cell_type": "code",
   "execution_count": null,
   "metadata": {},
   "outputs": [],
   "source": [
    "import glob"
   ]
  },
  {
   "cell_type": "code",
   "execution_count": null,
   "metadata": {},
   "outputs": [],
   "source": [
    "rms=\"C:/Work/01_Projects/0_architecture/MW_RFP/RMS\""
   ]
  },
  {
   "cell_type": "code",
   "execution_count": null,
   "metadata": {},
   "outputs": [],
   "source": [
    "file_list=glob.glob(rms + \"/*.xlsx\")"
   ]
  },
  {
   "cell_type": "code",
   "execution_count": null,
   "metadata": {},
   "outputs": [],
   "source": [
    "excl_list=[]\n",
    "\n",
    "for file in file_list:\n",
    "    excl_list.append(pd.read_excel(file))\n",
    "\n",
    "excl_merged=pd.DataFrame()\n",
    "\n",
    "for excl_file in excl_list:\n",
    "    excl_merged=excl_merged.append(excl_file,ignore_index=True)\n",
    "\n",
    "excl_merged.to_excel('rsm.xlsx', index=False)"
   ]
  },
  {
   "cell_type": "markdown",
   "metadata": {},
   "source": [
    "---\n",
    "RSM to dictionary\n",
    "---"
   ]
  },
  {
   "cell_type": "code",
   "execution_count": null,
   "metadata": {},
   "outputs": [],
   "source": [
    "# import modules\n",
    "import pandas as pd\n",
    "import re"
   ]
  },
  {
   "cell_type": "code",
   "execution_count": null,
   "metadata": {},
   "outputs": [],
   "source": [
    "# reaad antena:diameter table\n",
    "ant_file=\"C:/Work/01_Projects/0_architecture/MW_RFP/antennas.xlsx\"\n",
    "df=pd.read_excel(ant_file)\n",
    "ant_records=df.to_dict(orient='records')\n",
    "print(ant_records)"
   ]
  },
  {
   "cell_type": "code",
   "execution_count": null,
   "metadata": {},
   "outputs": [],
   "source": [
    "#convert list of dict to one dict with antenna name as a key\n",
    "antennae={}\n",
    "for ant_ in ant_records:\n",
    "    antennae[ant_[\"Tx Antenna Make\"]]=ant_[\"Diameter\"]\n",
    "\n",
    "print(antennae)"
   ]
  },
  {
   "cell_type": "code",
   "execution_count": null,
   "metadata": {},
   "outputs": [],
   "source": [
    "#load rsm records as list of dictionaries\n",
    "rsm_file=\"C:/Work/01_Projects/0_architecture/MW_RFP/RMS/528591.xlsx\"\n",
    "df=pd.read_excel(rsm_file)\n",
    "rsm_records=df.to_dict(orient='records')"
   ]
  },
  {
   "cell_type": "code",
   "execution_count": null,
   "metadata": {},
   "outputs": [],
   "source": [
    "for record in rsm_records:\n",
    "    print(str(record[\"Licence Id\"]) + \",\" + record[\"Rx Loc Name\"] + \",\" + record[\"Tx Loc Name\"] + \",\" + record[\"Channel\"] + \",\" + record[\"Rx Antenna Make\"]  + \",\" + str(antennae[record[\"Rx Antenna Make\"]]))"
   ]
  },
  {
   "cell_type": "code",
   "execution_count": null,
   "metadata": {},
   "outputs": [],
   "source": [
    "#SiteA=\"DEANWELL (WKT-016-039-A)\"\n",
    "SiteA=None\n",
    "SiteID=re.findall(r\"\\d{3}-\\d{3}\",str(SiteA))\n",
    "print(SiteID)\n",
    "print(len(SiteID))"
   ]
  },
  {
   "cell_type": "code",
   "execution_count": null,
   "metadata": {},
   "outputs": [],
   "source": [
    "site_id= lambda site_name: re.findall(r\"\\d{3}-\\d{3}\",str(site_name))[0] if (len(re.findall(r\"\\d{3}-\\d{3}\",str(site_name)))==1) else site_name\n",
    "print(site_id(SiteA))"
   ]
  },
  {
   "cell_type": "code",
   "execution_count": null,
   "metadata": {},
   "outputs": [],
   "source": [
    "SiteA=\"DEANWELL (WKT-016-039-A)\"\n",
    "SiteID=re.findall(r\"[A-Z]{3}-\\d{3}-\\d{3}\",str(SiteA))\n",
    "print(SiteID)\n",
    "print(len(SiteID))"
   ]
  },
  {
   "cell_type": "code",
   "execution_count": null,
   "metadata": {},
   "outputs": [],
   "source": [
    "SiteA=\"DEANWELL (WKT-016-039-A)\"\n",
    "match_=re.search(r\"[A-Z]{3}-(\\d{3}-\\d{3})\",str(SiteA))\n",
    "SiteID=match_.group(1) if match_ else SiteA\n",
    "print(SiteID)"
   ]
  },
  {
   "cell_type": "markdown",
   "metadata": {},
   "source": [
    "---\n",
    "Extract data for RFP from RSM\n",
    "---"
   ]
  },
  {
   "cell_type": "code",
   "execution_count": null,
   "metadata": {},
   "outputs": [],
   "source": [
    "\n",
    "# expected result: {link \"A--B\", Polarization, Channel_ID, Channel_BW, TxA_pwr, TxB_pwr, AntA_size, ANtA_height, AntB_size, AntB_height}\n",
    "\n",
    "# >load antenna_list (name: , diameter:) to lookup diameter\n",
    "\n",
    "# >load rsm\n",
    "# - record_key=license_id\n",
    "\n",
    "# > for record in rsm\n",
    "#     > if licenseID not in record_key[]\n",
    "#         > add license ID to record_key[]\n",
    "#         > channelA_id=channel.replace('#','')\n",
    "#         > polA=polarization\n",
    "#         > linkname= Tx loc -- Rx loc # extract site codes with regex r\"\\d{3}-\\d{3}\", polarization,  channel_id, AntA_size=antenna_list['antenna_name'] or 'not found', AntA_height, TxA_pwr\n",
    "#         > for record in rsm\n",
    "#             > if licenseID not in record_key[] AND \n",
    "#             > channelB_id=channel.replace('#','')\n",
    "#             > polB=polarization\n",
    "#             > if channelA_id=channelB_id AND polA=PolB\n",
    "#                 > add license ID to record_key[]\n",
    "#                 > grap AntB_size, AntB_height, TxB_pwr\n"
   ]
  },
  {
   "cell_type": "markdown",
   "metadata": {},
   "source": [
    "---\n",
    "get distance betwen sites\n",
    "---"
   ]
  },
  {
   "cell_type": "code",
   "execution_count": 7,
   "metadata": {},
   "outputs": [
    {
     "name": "stdout",
     "output_type": "stream",
     "text": [
      "4.556768035619229\n",
      "4.56\n"
     ]
    }
   ],
   "source": [
    "import geopy.distance\n",
    "\n",
    "siteA=(-37.8492579,175.3056696)\n",
    "siteB=(-37.8207394,175.268433)\n",
    "\n",
    "len_=geopy.distance.geodesic(siteA,siteB).km\n",
    "\n",
    "print(len_)\n",
    "print(round(len_,2))"
   ]
  }
 ],
 "metadata": {
  "kernelspec": {
   "display_name": "Python 3.8.13 ('env_MRFP')",
   "language": "python",
   "name": "python3"
  },
  "language_info": {
   "codemirror_mode": {
    "name": "ipython",
    "version": 3
   },
   "file_extension": ".py",
   "mimetype": "text/x-python",
   "name": "python",
   "nbconvert_exporter": "python",
   "pygments_lexer": "ipython3",
   "version": "3.8.13"
  },
  "orig_nbformat": 4,
  "vscode": {
   "interpreter": {
    "hash": "8f9504cf10516113e2d1ed42051359ff15fa889e33b98cc5f609ab06826ea909"
   }
  }
 },
 "nbformat": 4,
 "nbformat_minor": 2
}
